{
 "cells": [
  {
   "cell_type": "code",
   "execution_count": 1,
   "metadata": {},
   "outputs": [],
   "source": [
    "from SRC.cleanDataset import cleanDF"
   ]
  },
  {
   "cell_type": "code",
   "execution_count": 4,
   "metadata": {},
   "outputs": [
    {
     "data": {
      "text/html": [
       "<div>\n",
       "<style scoped>\n",
       "    .dataframe tbody tr th:only-of-type {\n",
       "        vertical-align: middle;\n",
       "    }\n",
       "\n",
       "    .dataframe tbody tr th {\n",
       "        vertical-align: top;\n",
       "    }\n",
       "\n",
       "    .dataframe thead th {\n",
       "        text-align: right;\n",
       "    }\n",
       "</style>\n",
       "<table border=\"1\" class=\"dataframe\">\n",
       "  <thead>\n",
       "    <tr style=\"text-align: right;\">\n",
       "      <th></th>\n",
       "      <th></th>\n",
       "      <th>male_suicides</th>\n",
       "      <th>female_suicides</th>\n",
       "      <th>total_suicides</th>\n",
       "      <th>population</th>\n",
       "      <th>suicides/100k pop</th>\n",
       "      <th>gdp_for_year ($)</th>\n",
       "      <th>gdp_per_capita ($)</th>\n",
       "    </tr>\n",
       "    <tr>\n",
       "      <th>Country</th>\n",
       "      <th>Year</th>\n",
       "      <th></th>\n",
       "      <th></th>\n",
       "      <th></th>\n",
       "      <th></th>\n",
       "      <th></th>\n",
       "      <th></th>\n",
       "      <th></th>\n",
       "    </tr>\n",
       "  </thead>\n",
       "  <tbody>\n",
       "    <tr>\n",
       "      <th rowspan=\"5\" valign=\"top\">Denmark</th>\n",
       "      <th>1994</th>\n",
       "      <td>56.67</td>\n",
       "      <td>26.58</td>\n",
       "      <td>83.25</td>\n",
       "      <td>406241.67</td>\n",
       "      <td>21.10</td>\n",
       "      <td>1.561623e+11</td>\n",
       "      <td>32034.0</td>\n",
       "    </tr>\n",
       "    <tr>\n",
       "      <th>1995</th>\n",
       "      <td>52.08</td>\n",
       "      <td>24.92</td>\n",
       "      <td>77.00</td>\n",
       "      <td>407425.00</td>\n",
       "      <td>19.93</td>\n",
       "      <td>1.850070e+11</td>\n",
       "      <td>37841.0</td>\n",
       "    </tr>\n",
       "    <tr>\n",
       "      <th>1996</th>\n",
       "      <td>52.58</td>\n",
       "      <td>21.75</td>\n",
       "      <td>74.33</td>\n",
       "      <td>409775.00</td>\n",
       "      <td>19.13</td>\n",
       "      <td>1.876324e+11</td>\n",
       "      <td>38158.0</td>\n",
       "    </tr>\n",
       "    <tr>\n",
       "      <th>1997</th>\n",
       "      <td>46.67</td>\n",
       "      <td>21.42</td>\n",
       "      <td>68.08</td>\n",
       "      <td>411441.67</td>\n",
       "      <td>18.21</td>\n",
       "      <td>1.735376e+11</td>\n",
       "      <td>35148.0</td>\n",
       "    </tr>\n",
       "    <tr>\n",
       "      <th>1998</th>\n",
       "      <td>45.58</td>\n",
       "      <td>18.00</td>\n",
       "      <td>63.58</td>\n",
       "      <td>413033.33</td>\n",
       "      <td>15.72</td>\n",
       "      <td>1.769920e+11</td>\n",
       "      <td>35710.0</td>\n",
       "    </tr>\n",
       "  </tbody>\n",
       "</table>\n",
       "</div>"
      ],
      "text/plain": [
       "              male_suicides  female_suicides  total_suicides  population  \\\n",
       "Country Year                                                               \n",
       "Denmark 1994          56.67            26.58           83.25   406241.67   \n",
       "        1995          52.08            24.92           77.00   407425.00   \n",
       "        1996          52.58            21.75           74.33   409775.00   \n",
       "        1997          46.67            21.42           68.08   411441.67   \n",
       "        1998          45.58            18.00           63.58   413033.33   \n",
       "\n",
       "              suicides/100k pop   gdp_for_year ($)   gdp_per_capita ($)  \n",
       "Country Year                                                             \n",
       "Denmark 1994              21.10        1.561623e+11             32034.0  \n",
       "        1995              19.93        1.850070e+11             37841.0  \n",
       "        1996              19.13        1.876324e+11             38158.0  \n",
       "        1997              18.21        1.735376e+11             35148.0  \n",
       "        1998              15.72        1.769920e+11             35710.0  "
      ]
     },
     "execution_count": 4,
     "metadata": {},
     "output_type": "execute_result"
    }
   ],
   "source": [
    "cleanDF().head()"
   ]
  },
  {
   "cell_type": "code",
   "execution_count": null,
   "metadata": {},
   "outputs": [],
   "source": []
  },
  {
   "cell_type": "code",
   "execution_count": null,
   "metadata": {},
   "outputs": [],
   "source": []
  }
 ],
 "metadata": {
  "kernelspec": {
   "display_name": "Python 3",
   "language": "python",
   "name": "python3"
  },
  "language_info": {
   "codemirror_mode": {
    "name": "ipython",
    "version": 3
   },
   "file_extension": ".py",
   "mimetype": "text/x-python",
   "name": "python",
   "nbconvert_exporter": "python",
   "pygments_lexer": "ipython3",
   "version": "3.7.3"
  }
 },
 "nbformat": 4,
 "nbformat_minor": 2
}
